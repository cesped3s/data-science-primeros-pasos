{
 "cells": [
  {
   "cell_type": "markdown",
   "id": "1b6229bc",
   "metadata": {},
   "source": [
    "# Data Science Tools and Ecosystem"
   ]
  },
  {
   "cell_type": "markdown",
   "id": "14edd7d8",
   "metadata": {},
   "source": [
    "### In this notebook, Data Science Tools and Ecosystem are summarized."
   ]
  },
  {
   "cell_type": "markdown",
   "id": "2e04bb7f",
   "metadata": {},
   "source": [
    "**Objectives::**\n",
    "- List popular languages for Data Science\n",
    "- Mention commonly used libraries by data scientists.\n",
    "- Create a table with a single column.\n",
    "- Identify open-source tools used in Data Science.\n"
   ]
  },
  {
   "cell_type": "markdown",
   "id": "467427d6",
   "metadata": {},
   "source": [
    "#### Some of the popular languages that Data Scientists use are:\n",
    "1. PYTHON\n",
    "2. R\n",
    "3. SQL\n"
   ]
  },
  {
   "cell_type": "markdown",
   "id": "296d1451",
   "metadata": {},
   "source": [
    "#### Some of the commonly used libraries used by Data Scientists include:\n",
    "1. PANDAS\n",
    "2. NUMPY\n",
    "3. MATPLOTLIB "
   ]
  },
  {
   "cell_type": "markdown",
   "id": "a96d58b7",
   "metadata": {},
   "source": [
    "| Data Science Tools |\n",
    "|----------------|\n",
    "|Jupyter Notebook|\n",
    "|Apache Spark    |\n",
    "| RStudio        |\n"
   ]
  },
  {
   "cell_type": "markdown",
   "id": "3828d394",
   "metadata": {},
   "source": [
    "### Below are a few examples of evaluating arithmetic expressions in Python"
   ]
  },
  {
   "cell_type": "code",
   "execution_count": 13,
   "id": "e4b06488",
   "metadata": {},
   "outputs": [
    {
     "data": {
      "text/plain": [
       "17"
      ]
     },
     "execution_count": 13,
     "metadata": {},
     "output_type": "execute_result"
    }
   ],
   "source": [
    "(3*4)+5\n",
    "# This a simple arithmetic expression to mutiply then add integers\n"
   ]
  },
  {
   "cell_type": "code",
   "execution_count": 14,
   "id": "e22b6c48",
   "metadata": {},
   "outputs": [
    {
     "data": {
      "text/plain": [
       "3.3333333333333335"
      ]
     },
     "execution_count": 14,
     "metadata": {},
     "output_type": "execute_result"
    }
   ],
   "source": [
    "200/60\n",
    "# This will convert 200 minutes to hours by diving by 60"
   ]
  },
  {
   "cell_type": "markdown",
   "id": "43a78671",
   "metadata": {},
   "source": [
    "## Author\n",
    "_ALEJANDRO CESPEDES ALARCON_"
   ]
  }
 ],
 "metadata": {
  "kernelspec": {
   "display_name": "Python 3 (ipykernel)",
   "language": "python",
   "name": "python3"
  },
  "language_info": {
   "codemirror_mode": {
    "name": "ipython",
    "version": 3
   },
   "file_extension": ".py",
   "mimetype": "text/x-python",
   "name": "python",
   "nbconvert_exporter": "python",
   "pygments_lexer": "ipython3",
   "version": "3.12.7"
  }
 },
 "nbformat": 4,
 "nbformat_minor": 5
}
