{
 "cells": [
  {
   "cell_type": "markdown",
   "id": "1b6229bc",
   "metadata": {},
   "source": [
    "# Data Science Tools and Ecosystem"
   ]
  },
  {
   "cell_type": "markdown",
   "id": "14edd7d8",
   "metadata": {},
   "source": [
    "### En este cuaderno, se resumen las herramientas y ecosistemas de ciencia de datos."
   ]
  },
  {
   "cell_type": "markdown",
   "id": "2e04bb7f",
   "metadata": {},
   "source": [
    "**Objetivos:**\n",
    "- Listar lenguajes populares para Ciencia de Datos.\n",
    "- Mencionar bibliotecas comúnmente utilizadas por científicos de datos.\n",
    "- Creacion de tabla con una sola columna.\n",
    "- Identificar herramientas de código abierto utilizadas en Ciencia de Datos.\n"
   ]
  },
  {
   "cell_type": "markdown",
   "id": "467427d6",
   "metadata": {},
   "source": [
    "#### Algunos de los lenguajes populares que utilizan los científicos de datos son:\n",
    "1. PYTHON\n",
    "2. R\n",
    "3. SQL\n"
   ]
  },
  {
   "cell_type": "markdown",
   "id": "296d1451",
   "metadata": {},
   "source": [
    "#### Algunas de las bibliotecas comúnmente utilizadas por los científicos de datos incluyen:\n",
    "1. PANDAS\n",
    "2. NUMPY\n",
    "3. MATPLOTLIB "
   ]
  },
  {
   "cell_type": "markdown",
   "id": "a96d58b7",
   "metadata": {},
   "source": [
    "| Herramientas de Ciencia de Datos |\n",
    "|----------------|\n",
    "|Jupyter Notebook|\n",
    "|Apache Spark    |\n",
    "| RStudio        |\n"
   ]
  },
  {
   "cell_type": "markdown",
   "id": "3828d394",
   "metadata": {},
   "source": [
    "### A continuación, se presentan algunos ejemplos de evaluación de expresiones aritméticas en Python"
   ]
  },
  {
   "cell_type": "code",
   "execution_count": 16,
   "id": "e4b06488",
   "metadata": {},
   "outputs": [
    {
     "data": {
      "text/plain": [
       "17"
      ]
     },
     "execution_count": 16,
     "metadata": {},
     "output_type": "execute_result"
    }
   ],
   "source": [
    "(3*4)+5\n",
    "# Esta es una expresión aritmética simple para multiplicar y luego sumar enteros\n"
   ]
  },
  {
   "cell_type": "code",
   "execution_count": 18,
   "id": "e22b6c48",
   "metadata": {},
   "outputs": [
    {
     "data": {
      "text/plain": [
       "3.3333333333333335"
      ]
     },
     "execution_count": 18,
     "metadata": {},
     "output_type": "execute_result"
    }
   ],
   "source": [
    "200/60\n",
    "# Esto convertirá 200 minutos a horas dividiendo por 60"
   ]
  },
  {
   "cell_type": "markdown",
   "id": "43a78671",
   "metadata": {},
   "source": [
    "## AUTOR"
   ]
  },
  {
   "cell_type": "markdown",
   "id": "bef52af5",
   "metadata": {},
   "source": [
    "_ALEJANDRO CESPEDES ALARCON_"
   ]
  },
  {
   "cell_type": "code",
   "execution_count": null,
   "id": "28e9bdfa",
   "metadata": {},
   "outputs": [],
   "source": []
  },
  {
   "cell_type": "code",
   "execution_count": null,
   "id": "7f89588c",
   "metadata": {},
   "outputs": [],
   "source": []
  },
  {
   "cell_type": "code",
   "execution_count": null,
   "id": "1b42cfe9",
   "metadata": {},
   "outputs": [],
   "source": []
  }
 ],
 "metadata": {
  "kernelspec": {
   "display_name": "Python 3 (ipykernel)",
   "language": "python",
   "name": "python3"
  },
  "language_info": {
   "codemirror_mode": {
    "name": "ipython",
    "version": 3
   },
   "file_extension": ".py",
   "mimetype": "text/x-python",
   "name": "python",
   "nbconvert_exporter": "python",
   "pygments_lexer": "ipython3",
   "version": "3.7.1"
  }
 },
 "nbformat": 4,
 "nbformat_minor": 5
}
